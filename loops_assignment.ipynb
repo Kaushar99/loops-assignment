{
 "cells": [
  {
   "cell_type": "code",
   "execution_count": 1,
   "id": "9e776871-dd45-4680-a00d-3796d1ec21e1",
   "metadata": {},
   "outputs": [],
   "source": [
    "#1. Print numbers from 1 to 5 using a while loop."
   ]
  },
  {
   "cell_type": "code",
   "execution_count": 2,
   "id": "e3aed228-6cb3-420a-bdb8-09dfb4156e2e",
   "metadata": {},
   "outputs": [
    {
     "name": "stdout",
     "output_type": "stream",
     "text": [
      "1\n",
      "2\n",
      "3\n",
      "4\n",
      "5\n"
     ]
    }
   ],
   "source": [
    "count = 1\n",
    "while count <= 5: \n",
    "    print(count)\n",
    "    count += 1"
   ]
  },
  {
   "cell_type": "code",
   "execution_count": 3,
   "id": "9ec760fc-8a44-47d3-a613-f8547ef5e2a5",
   "metadata": {},
   "outputs": [],
   "source": [
    "#2. calculate the sum of numbers from 1 to 10 using a while loop"
   ]
  },
  {
   "cell_type": "code",
   "execution_count": 1,
   "id": "f121a7ff-6e3c-45f3-8ec0-949fca94331c",
   "metadata": {},
   "outputs": [
    {
     "name": "stdout",
     "output_type": "stream",
     "text": [
      "the sum of numbers from 1 to 10 is: 55\n"
     ]
    }
   ],
   "source": [
    "num = 1 \n",
    "sum_num = 0\n",
    "while num <= 10:\n",
    "    sum_num += num\n",
    "    num += 1\n",
    "    \n",
    "print(\"the sum of numbers from 1 to 10 is:\", sum_num)"
   ]
  },
  {
   "cell_type": "code",
   "execution_count": 2,
   "id": "643c8499-4369-4da4-804f-5bf6176a55dd",
   "metadata": {},
   "outputs": [],
   "source": [
    "#3. calculate the factorial of a number using a for loop"
   ]
  },
  {
   "cell_type": "code",
   "execution_count": 3,
   "id": "b9712426-a70f-45d7-b2f0-dc6335f31736",
   "metadata": {},
   "outputs": [
    {
     "name": "stdout",
     "output_type": "stream",
     "text": [
      "factorial of 9 is 362880\n"
     ]
    }
   ],
   "source": [
    "num = 9\n",
    "fac = 1\n",
    "for i in range(1, num+1):\n",
    "    fac = fac * i\n",
    "    \n",
    "print(\"factorial of\", num, \"is\", fac)"
   ]
  },
  {
   "cell_type": "code",
   "execution_count": 4,
   "id": "bfaeddcb-a320-4570-b58d-fe1dc460ccb5",
   "metadata": {},
   "outputs": [],
   "source": [
    "#4. Count the number of vowel in a string using a for loop."
   ]
  },
  {
   "cell_type": "code",
   "execution_count": 36,
   "id": "d787465e-1158-4cf8-91d7-5109a8d7b262",
   "metadata": {},
   "outputs": [
    {
     "name": "stdout",
     "output_type": "stream",
     "text": [
      "Number of vowels in the given string is: 6\n"
     ]
    }
   ],
   "source": [
    "def count_vowels(string):\n",
    "    vowels = 'aeiouAEIOU'\n",
    "    count = 0\n",
    "    for char in string:\n",
    "        if char in vowels:\n",
    "            count += 1\n",
    "    return count\n",
    "\n",
    "input_string = 'hindi notebook'\n",
    "vowel_count = count_vowels(input_string)\n",
    "print(f\"Number of vowels in the given string is: {vowel_count}\")\n"
   ]
  },
  {
   "cell_type": "code",
   "execution_count": 6,
   "id": "510de501-f0a4-4a0f-9f3a-9a92dcaa031d",
   "metadata": {},
   "outputs": [],
   "source": [
    "#5. Print a pattern using nested loop."
   ]
  },
  {
   "cell_type": "code",
   "execution_count": 8,
   "id": "9d2e2458-4129-4afa-bd10-19da870d6b8c",
   "metadata": {},
   "outputs": [
    {
     "name": "stdout",
     "output_type": "stream",
     "text": [
      "* \n",
      "* * \n",
      "* * * \n",
      "* * * * \n",
      "* * * * * \n"
     ]
    }
   ],
   "source": [
    "for i in range(5):\n",
    "    for j in range(i+1):\n",
    "        print(\"*\", end = \" \") \n",
    "    print()"
   ]
  },
  {
   "cell_type": "code",
   "execution_count": 9,
   "id": "8eb1d201-b3d5-4dd7-aec9-2ff1eb517db8",
   "metadata": {},
   "outputs": [],
   "source": [
    "#6. Generate a multiplication table using nested loop."
   ]
  },
  {
   "cell_type": "code",
   "execution_count": 34,
   "id": "a6887b50-2f69-46eb-85a5-1468fbccd462",
   "metadata": {},
   "outputs": [
    {
     "name": "stdout",
     "output_type": "stream",
     "text": [
      "10\t\n",
      "20\t\n",
      "30\t\n",
      "40\t\n",
      "50\t\n",
      "60\t\n",
      "70\t\n",
      "80\t\n",
      "90\t\n",
      "100\t\n"
     ]
    }
   ],
   "source": [
    "for i in range(1, 11):\n",
    "    for j in range (1, 11):\n",
    "        result = row * col\n",
    "    print (i * j, end = \"\\t\")\n",
    "    print()"
   ]
  },
  {
   "cell_type": "code",
   "execution_count": null,
   "id": "5d352934-95f0-4abc-8c85-6c4edd67b8ec",
   "metadata": {},
   "outputs": [],
   "source": []
  }
 ],
 "metadata": {
  "kernelspec": {
   "display_name": "Python 3 (ipykernel)",
   "language": "python",
   "name": "python3"
  },
  "language_info": {
   "codemirror_mode": {
    "name": "ipython",
    "version": 3
   },
   "file_extension": ".py",
   "mimetype": "text/x-python",
   "name": "python",
   "nbconvert_exporter": "python",
   "pygments_lexer": "ipython3",
   "version": "3.10.8"
  }
 },
 "nbformat": 4,
 "nbformat_minor": 5
}
